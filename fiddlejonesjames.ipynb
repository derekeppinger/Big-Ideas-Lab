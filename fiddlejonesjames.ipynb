{
 "cells": [
  {
   "cell_type": "code",
   "execution_count": null,
   "metadata": {},
   "outputs": [
    {
     "name": "stdout",
     "output_type": "stream",
     "text": [
      "Whats your name? Derek\n"
     ]
    },
    {
     "name": "stdout",
     "output_type": "stream",
     "text": [
      "Hello Derek\n"
     ]
    }
   ],
   "source": [
    "Name = input(\"Whats your name?\")\n",
    "\n",
    "print(\"Hello \" + Name)\n",
    "\n",
    "Day = input(\"Whats your favorite day of the week?\")\n",
    "Number = int(input(\"Whats your favorite number?\"))\n",
    "\n",
    "count = 0\n",
    "while count < Number:\n",
    "    print(Day)\n",
    "    count += 1"
   ]
  },
  {
   "cell_type": "code",
   "execution_count": 2,
   "metadata": {},
   "outputs": [
    {
     "name": "stdout",
     "output_type": "stream",
     "text": [
      "You have 13 years left until you can retire.\n",
      "It's currently 2023, so you can retire in 2036\n"
     ]
    }
   ],
   "source": [
    "# calculate how long to retire\n",
    "current_age = int(input(\"What is your current age? \"))\n",
    "retirement_age = int(input(\"At what age would you like to retire? \"))\n",
    "years_left = retirement_age - current_age\n",
    "retirement_year = 2023 + years_left # Assumes current year is 2023\n",
    "print(\"You have\", years_left, \"years left until you can retire.\")\n",
    "print(\"It's currently 2023, so you can retire in\", retirement_year)\n",
    "\n"
   ]
  }
 ],
 "metadata": {
  "kernelspec": {
   "display_name": "Python 3",
   "language": "python",
   "name": "python3"
  },
  "language_info": {
   "codemirror_mode": {
    "name": "ipython",
    "version": 3
   },
   "file_extension": ".py",
   "mimetype": "text/x-python",
   "name": "python",
   "nbconvert_exporter": "python",
   "pygments_lexer": "ipython3",
   "version": "3.8.9 (default, Jul 19 2021, 09:37:30) \n[Clang 13.0.0 (clang-1300.0.27.3)]"
  },
  "vscode": {
   "interpreter": {
    "hash": "31f2aee4e71d21fbe5cf8b01ff0e069b9275f58929596ceb00d14d90e3e16cd6"
   }
  }
 },
 "nbformat": 4,
 "nbformat_minor": 4
}
