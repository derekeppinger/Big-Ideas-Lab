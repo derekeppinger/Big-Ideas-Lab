{
 "cells": [
  {
   "cell_type": "code",
   "execution_count": null,
   "metadata": {},
   "outputs": [
    {
     "name": "stdin",
     "output_type": "stream",
     "text": [
      "Whats your name? Derek\n"
     ]
    },
    {
     "name": "stdout",
     "output_type": "stream",
     "text": [
      "Hello Derek\n"
     ]
    }
   ],
   "source": [
    "Name = input(\"Whats your name?\")\n",
    "\n",
    "print(\"Hello \" + Name)\n",
    "\n",
    "Day = input(\"Whats your favorite day of the week?\")\n",
    "Number = int(input(\"Whats your favorite number?\"))\n",
    "\n",
    "count = 0\n",
    "while count < Number:\n",
    "    print(Day)\n",
    "    count += 1"
   ]
  },
  {
   "cell_type": "code",
   "execution_count": null,
   "metadata": {},
   "outputs": [],
   "source": []
  }
 ],
 "metadata": {
  "kernelspec": {
   "display_name": "Python 3",
   "language": "python",
   "name": "python3"
  },
  "language_info": {
   "codemirror_mode": {
    "name": "ipython",
    "version": 3
   },
   "file_extension": ".py",
   "mimetype": "text/x-python",
   "name": "python",
   "nbconvert_exporter": "python",
   "pygments_lexer": "ipython3",
   "version": "3.8.3"
  }
 },
 "nbformat": 4,
 "nbformat_minor": 4
}
